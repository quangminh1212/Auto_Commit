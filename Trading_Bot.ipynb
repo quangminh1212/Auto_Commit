{
  "cells": [
    {
      "cell_type": "markdown",
      "metadata": {
        "id": "view-in-github",
        "colab_type": "text"
      },
      "source": [
        "<a href=\"https://colab.research.google.com/github/quangminh1212/Auto_Commit/blob/main/Trading_Bot.ipynb\" target=\"_parent\"><img src=\"https://colab.research.google.com/assets/colab-badge.svg\" alt=\"Open In Colab\"/></a>"
      ]
    },
    {
      "cell_type": "code",
      "execution_count": 1,
      "metadata": {
        "id": "5U-AzvgItIbx",
        "colab": {
          "base_uri": "https://localhost:8080/"
        },
        "outputId": "e73f8c58-2088-47f3-d7cd-d96e1ed4a43b"
      },
      "outputs": [
        {
          "output_type": "stream",
          "name": "stdout",
          "text": [
            "Overwriting .env\n"
          ]
        }
      ],
      "source": [
        "%%writefile .env\n",
        "API_KEY=eT0P26sdBoPcrIh6Bm45UsP41dWPW1ujh8EoeOmnjdiYH82UOsv7IKt8nS8RctVs\n",
        "API_SECRET=ZvfthuxUVd3TgWdoUhYpRSF2AMNdr5QRVeJR4efiTsvjbUrZ7nHuAUVdNxY32jGL\n"
      ]
    },
    {
      "cell_type": "code",
      "source": [
        "!pip uninstall -y python-binance binance binance-connector\n",
        "!pip uninstall -y binance python-binance binance-connector\n",
        "!pip uninstall -y numpy pandas\n",
        "\n",
        "!pip install numpy==1.26.0 pandas==2.2.2\n",
        "!pip install --upgrade binance-connector\n"
      ],
      "metadata": {
        "colab": {
          "base_uri": "https://localhost:8080/"
        },
        "id": "8cZL2hFpnJHc",
        "outputId": "b0e50544-ab55-4df3-989b-a8fda9478327"
      },
      "execution_count": 2,
      "outputs": [
        {
          "output_type": "stream",
          "name": "stdout",
          "text": [
            "\u001b[33mWARNING: Skipping python-binance as it is not installed.\u001b[0m\u001b[33m\n",
            "\u001b[0m\u001b[33mWARNING: Skipping binance as it is not installed.\u001b[0m\u001b[33m\n",
            "\u001b[0mFound existing installation: binance-connector 3.12.0\n",
            "Uninstalling binance-connector-3.12.0:\n",
            "  Successfully uninstalled binance-connector-3.12.0\n",
            "\u001b[33mWARNING: Skipping binance as it is not installed.\u001b[0m\u001b[33m\n",
            "\u001b[0m\u001b[33mWARNING: Skipping python-binance as it is not installed.\u001b[0m\u001b[33m\n",
            "\u001b[0m\u001b[33mWARNING: Skipping binance-connector as it is not installed.\u001b[0m\u001b[33m\n",
            "\u001b[0mFound existing installation: numpy 1.26.0\n",
            "Uninstalling numpy-1.26.0:\n",
            "  Successfully uninstalled numpy-1.26.0\n",
            "Found existing installation: pandas 2.2.2\n",
            "Uninstalling pandas-2.2.2:\n",
            "  Successfully uninstalled pandas-2.2.2\n",
            "Collecting numpy==1.26.0\n",
            "  Using cached numpy-1.26.0-cp311-cp311-manylinux_2_17_x86_64.manylinux2014_x86_64.whl.metadata (58 kB)\n",
            "Collecting pandas==2.2.2\n",
            "  Using cached pandas-2.2.2-cp311-cp311-manylinux_2_17_x86_64.manylinux2014_x86_64.whl.metadata (19 kB)\n",
            "Requirement already satisfied: python-dateutil>=2.8.2 in /usr/local/lib/python3.11/dist-packages (from pandas==2.2.2) (2.8.2)\n",
            "Requirement already satisfied: pytz>=2020.1 in /usr/local/lib/python3.11/dist-packages (from pandas==2.2.2) (2025.1)\n",
            "Requirement already satisfied: tzdata>=2022.7 in /usr/local/lib/python3.11/dist-packages (from pandas==2.2.2) (2025.1)\n",
            "Requirement already satisfied: six>=1.5 in /usr/local/lib/python3.11/dist-packages (from python-dateutil>=2.8.2->pandas==2.2.2) (1.17.0)\n",
            "Using cached numpy-1.26.0-cp311-cp311-manylinux_2_17_x86_64.manylinux2014_x86_64.whl (18.2 MB)\n",
            "Using cached pandas-2.2.2-cp311-cp311-manylinux_2_17_x86_64.manylinux2014_x86_64.whl (13.0 MB)\n",
            "Installing collected packages: numpy, pandas\n",
            "Successfully installed numpy-1.26.0 pandas-2.2.2\n",
            "Collecting binance-connector\n",
            "  Using cached binance_connector-3.12.0-py3-none-any.whl.metadata (13 kB)\n",
            "Requirement already satisfied: requests>=2.31.0 in /usr/local/lib/python3.11/dist-packages (from binance-connector) (2.32.3)\n",
            "Requirement already satisfied: websocket-client>=1.6.3 in /usr/local/lib/python3.11/dist-packages (from binance-connector) (1.8.0)\n",
            "Requirement already satisfied: pycryptodome>=3.15.0 in /usr/local/lib/python3.11/dist-packages (from binance-connector) (3.21.0)\n",
            "Requirement already satisfied: charset-normalizer<4,>=2 in /usr/local/lib/python3.11/dist-packages (from requests>=2.31.0->binance-connector) (3.4.1)\n",
            "Requirement already satisfied: idna<4,>=2.5 in /usr/local/lib/python3.11/dist-packages (from requests>=2.31.0->binance-connector) (3.10)\n",
            "Requirement already satisfied: urllib3<3,>=1.21.1 in /usr/local/lib/python3.11/dist-packages (from requests>=2.31.0->binance-connector) (2.3.0)\n",
            "Requirement already satisfied: certifi>=2017.4.17 in /usr/local/lib/python3.11/dist-packages (from requests>=2.31.0->binance-connector) (2025.1.31)\n",
            "Using cached binance_connector-3.12.0-py3-none-any.whl (74 kB)\n",
            "Installing collected packages: binance-connector\n",
            "Successfully installed binance-connector-3.12.0\n"
          ]
        }
      ]
    },
    {
      "cell_type": "code",
      "source": [
        "!pip show binance-connector\n"
      ],
      "metadata": {
        "colab": {
          "base_uri": "https://localhost:8080/"
        },
        "id": "FmDJ-YvTqT2W",
        "outputId": "1ee49618-66b4-4d91-a31f-9f8880cc0be9"
      },
      "execution_count": 3,
      "outputs": [
        {
          "output_type": "stream",
          "name": "stdout",
          "text": [
            "Name: binance-connector\n",
            "Version: 3.12.0\n",
            "Summary: This is a lightweight library that works as a connector to Binance public API.\n",
            "Home-page: https://github.com/binance/binance-connector-python\n",
            "Author: \n",
            "Author-email: \n",
            "License: MIT\n",
            "Location: /usr/local/lib/python3.11/dist-packages\n",
            "Requires: pycryptodome, requests, websocket-client\n",
            "Required-by: \n"
          ]
        }
      ]
    },
    {
      "cell_type": "markdown",
      "metadata": {
        "id": "2XgTgS9trZsV"
      },
      "source": []
    },
    {
      "cell_type": "code",
      "source": [
        "\n",
        "from binance.um_futures import UMFutures\n",
        "\n",
        "client = UMFutures(\n",
        "    key=\"API_KEY\",\n",
        "    secret=\"API_SECRET\",\n",
        "    base_url=\"https://testnet.binancefuture.com\"\n",
        ")\n",
        "\n",
        "print(client)\n",
        "\n",
        "\n",
        "# from binance.um_futures import UMFutures\n",
        "\n",
        "# # Thử khởi tạo client\n",
        "# client = UMFutures(\"API_KEY\", \"API_SECRET\", base_url=\"https://testnet.binancefuture.com\")\n",
        "# print(client)\n"
      ],
      "metadata": {
        "colab": {
          "base_uri": "https://localhost:8080/",
          "height": 384
        },
        "id": "T7BV7-h3OqLs",
        "outputId": "542ee736-4b53-46d3-8e8f-065404d68a3a"
      },
      "execution_count": 5,
      "outputs": [
        {
          "output_type": "error",
          "ename": "ModuleNotFoundError",
          "evalue": "No module named 'binance.um_futures'",
          "traceback": [
            "\u001b[0;31m---------------------------------------------------------------------------\u001b[0m",
            "\u001b[0;31mModuleNotFoundError\u001b[0m                       Traceback (most recent call last)",
            "\u001b[0;32m<ipython-input-5-8dc54b15ae2a>\u001b[0m in \u001b[0;36m<cell line: 0>\u001b[0;34m()\u001b[0m\n\u001b[0;32m----> 1\u001b[0;31m \u001b[0;32mfrom\u001b[0m \u001b[0mbinance\u001b[0m\u001b[0;34m.\u001b[0m\u001b[0mum_futures\u001b[0m \u001b[0;32mimport\u001b[0m \u001b[0mUMFutures\u001b[0m\u001b[0;34m\u001b[0m\u001b[0;34m\u001b[0m\u001b[0m\n\u001b[0m\u001b[1;32m      2\u001b[0m \u001b[0;34m\u001b[0m\u001b[0m\n\u001b[1;32m      3\u001b[0m client = UMFutures(\n\u001b[1;32m      4\u001b[0m     \u001b[0mkey\u001b[0m\u001b[0;34m=\u001b[0m\u001b[0;34m\"API_KEY\"\u001b[0m\u001b[0;34m,\u001b[0m\u001b[0;34m\u001b[0m\u001b[0;34m\u001b[0m\u001b[0m\n\u001b[1;32m      5\u001b[0m     \u001b[0msecret\u001b[0m\u001b[0;34m=\u001b[0m\u001b[0;34m\"API_SECRET\"\u001b[0m\u001b[0;34m,\u001b[0m\u001b[0;34m\u001b[0m\u001b[0;34m\u001b[0m\u001b[0m\n",
            "\u001b[0;31mModuleNotFoundError\u001b[0m: No module named 'binance.um_futures'",
            "",
            "\u001b[0;31m---------------------------------------------------------------------------\u001b[0;32m\nNOTE: If your import is failing due to a missing package, you can\nmanually install dependencies using either !pip or !apt.\n\nTo view examples of installing some common dependencies, click the\n\"Open Examples\" button below.\n\u001b[0;31m---------------------------------------------------------------------------\u001b[0m\n"
          ],
          "errorDetails": {
            "actions": [
              {
                "action": "open_url",
                "actionText": "Open Examples",
                "url": "/notebooks/snippets/importing_libraries.ipynb"
              }
            ]
          }
        }
      ]
    },
    {
      "cell_type": "code",
      "source": [
        "import os\n",
        "import time\n",
        "import pandas as pd\n",
        "import numpy as np\n",
        "\n",
        "from dotenv import load_dotenv\n",
        "load_dotenv()\n",
        "\n",
        "from binance.um_futures import UMFutures\n",
        "\n",
        "# Lấy API Key/Secret từ .env\n",
        "API_KEY = os.getenv(\"API_KEY\")\n",
        "API_SECRET = os.getenv(\"API_SECRET\")\n",
        "\n",
        "# Binance USDM Futures Testnet base URL\n",
        "BASE_URL = \"https://testnet.binancefuture.com\"\n",
        "\n",
        "client = UMFutures(key=API_KEY, secret=API_SECRET, base_url=BASE_URL)\n",
        "\n",
        "# Thông số Bot\n",
        "SYMBOL = \"BTCUSDT\"\n",
        "LEVERAGE = 20          # ví dụ high leverage\n",
        "RISK_PER_TRADE = 0.02  # 2% vốn\n",
        "CHECK_INTERVAL = 10    # lấy giá mỗi 10 giây\n",
        "WINDOW = 10            # trung bình 10 giá gần nhất\n",
        "BREAKOUT_RATIO = 0.001 # 0.1% break so với MA (tuỳ chỉnh)\n",
        "STOP_LOSS_PCT = 0.005  # 0.5% stop-loss (tuỳ chỉnh)\n",
        "TAKE_PROFIT_PCT = 0.01 # 1% take-profit (tuỳ chỉnh)\n",
        "\n",
        "# Thiết lập leverage, margin type\n",
        "def setup_leverage(symbol):\n",
        "    try:\n",
        "        client.change_leverage(symbol=symbol, leverage=LEVERAGE)\n",
        "        client.change_margin_type(symbol=symbol, marginType=\"ISOLATED\")\n",
        "        print(f\"[{symbol}] Đòn bẩy = {LEVERAGE}x, margin=ISOLATED\")\n",
        "    except Exception as e:\n",
        "        print(f\"Lỗi setup leverage: {e}\")\n",
        "\n",
        "setup_leverage(SYMBOL)\n",
        "\n",
        "# Lưu các giá gần nhất (để tính MA). Lúc khởi động thì ta để trống.\n",
        "price_history = []\n",
        "\n",
        "def get_current_price(symbol):\n",
        "    \"\"\"\n",
        "    Lấy giá markPrice hiện tại hoặc lastPrice. Ở đây dùng 'ticker_price' -> lastPrice.\n",
        "    \"\"\"\n",
        "    data = client.ticker_price(symbol)\n",
        "    return float(data[\"price\"])\n",
        "\n",
        "def get_usdt_balance():\n",
        "    \"\"\"\n",
        "    Lấy số dư USDT\n",
        "    \"\"\"\n",
        "    balances = client.balance()\n",
        "    for b in balances:\n",
        "        if b[\"asset\"] == \"USDT\":\n",
        "            return float(b[\"balance\"])\n",
        "    return 0.0\n",
        "\n",
        "def get_position(symbol):\n",
        "    \"\"\"\n",
        "    Kiểm tra xem đang có vị thế (LONG/SHORT) và khối lượng bao nhiêu\n",
        "    \"\"\"\n",
        "    positions = client.position_information(symbol=symbol)\n",
        "    # Mỗi cặp symbol trả về 2 dict (một cho \"LONG\", một cho \"SHORT\", nếu Hedge mode),\n",
        "    #  hoặc 1 dict (one-way). Tuỳ setting account, ta duyệt check.\n",
        "    for pos in positions:\n",
        "        if pos[\"symbol\"] == symbol:\n",
        "            entry_price = float(pos[\"entryPrice\"])\n",
        "            position_amt = float(pos[\"positionAmt\"])  # (+) = long, (-) = short, 0=không có\n",
        "            return position_amt, entry_price\n",
        "    return 0.0, 0.0\n",
        "\n",
        "def close_position(symbol):\n",
        "    \"\"\"\n",
        "    Đóng toàn bộ vị thế hiện tại (nếu có)\n",
        "    => Gửi lệnh ngược lại quantity\n",
        "    \"\"\"\n",
        "    position_amt, entry = get_position(symbol)\n",
        "    if position_amt > 0:\n",
        "        # Đang LONG => SELL hết\n",
        "        qty = abs(position_amt)\n",
        "        client.new_order(symbol=symbol, side=\"SELL\", type=\"MARKET\", quantity=qty, reduceOnly=True)\n",
        "        print(f\"[CLOSE LONG] {symbol} qty={qty}\")\n",
        "    elif position_amt < 0:\n",
        "        # Đang SHORT => BUY hết\n",
        "        qty = abs(position_amt)\n",
        "        client.new_order(symbol=symbol, side=\"BUY\", type=\"MARKET\", quantity=qty, reduceOnly=True)\n",
        "        print(f\"[CLOSE SHORT] {symbol} qty={qty}\")\n",
        "\n",
        "def place_stop(symbol, stop_price, side):\n",
        "    \"\"\"\n",
        "    Đặt lệnh stop-market đóng vị thế:\n",
        "     - Nếu đang LONG => side=SELL\n",
        "     - Nếu đang SHORT => side=BUY\n",
        "    \"\"\"\n",
        "    try:\n",
        "        client.new_order(\n",
        "            symbol=symbol,\n",
        "            side=side,\n",
        "            type=\"STOP_MARKET\",\n",
        "            stopPrice=stop_price,\n",
        "            closePosition=True\n",
        "        )\n",
        "        print(f\"[STOP] {symbol} side={side} stopPrice={stop_price}\")\n",
        "    except Exception as e:\n",
        "        print(\"Lỗi đặt stop:\", e)\n",
        "\n",
        "def open_position(symbol, side, quantity):\n",
        "    \"\"\"\n",
        "    Mở vị thế MARKET. side = \"BUY\" => Long, side = \"SELL\" => Short\n",
        "    \"\"\"\n",
        "    try:\n",
        "        client.new_order(symbol=symbol, side=side, type=\"MARKET\", quantity=quantity)\n",
        "        print(f\"[OPEN {side}] {symbol} qty={quantity}\")\n",
        "    except Exception as e:\n",
        "        print(\"Lỗi mở vị thế:\", e)\n",
        "\n",
        "def run_bot():\n",
        "    global price_history\n",
        "\n",
        "    # 1) Lấy giá hiện tại\n",
        "    current_price = get_current_price(SYMBOL)\n",
        "    price_history.append(current_price)\n",
        "\n",
        "    # 2) Chỉ giữ tối đa WINDOW giá gần nhất\n",
        "    if len(price_history) > WINDOW:\n",
        "        price_history.pop(0)\n",
        "\n",
        "    # 3) Chưa đủ dữ liệu => bỏ qua\n",
        "    if len(price_history) < WINDOW:\n",
        "        print(\"Chưa đủ dữ liệu history => bỏ qua\")\n",
        "        return\n",
        "\n",
        "    # 4) Tính MA\n",
        "    ma = np.mean(price_history)\n",
        "\n",
        "    # 5) Kiểm tra vị thế hiện tại\n",
        "    position_amt, entry_price = get_position(SYMBOL)\n",
        "\n",
        "    # 6) Tạo tín hiệu\n",
        "    #    - LONG signal: current_price > ma + (ma * BREAKOUT_RATIO)\n",
        "    #    - SHORT signal: current_price < ma - (ma * BREAKOUT_RATIO)\n",
        "    upper_breakout = ma + ma * BREAKOUT_RATIO\n",
        "    lower_breakout = ma - ma * BREAKOUT_RATIO\n",
        "\n",
        "    # 7) Tính khối lượng => risk\n",
        "    #    Lấy 2% vốn => * đòn bẩy => / current_price\n",
        "    usdt_balance = get_usdt_balance()\n",
        "    risk_fund = usdt_balance * RISK_PER_TRADE\n",
        "    notional = risk_fund * LEVERAGE\n",
        "    qty = notional / current_price\n",
        "    qty = round(qty, 4)\n",
        "    if qty < 0.001:\n",
        "        qty = 0.001\n",
        "\n",
        "    # 8) Nếu chưa có vị thế => tìm cơ hội mở\n",
        "    if position_amt == 0:\n",
        "        if current_price > upper_breakout:\n",
        "            # Mở LONG\n",
        "            open_position(SYMBOL, \"BUY\", qty)\n",
        "            # Đặt stop-loss\n",
        "            stop_loss_price = round(current_price * (1 - STOP_LOSS_PCT), 2)\n",
        "            place_stop(SYMBOL, stop_loss_price, \"SELL\")\n",
        "            # Đặt take-profit\n",
        "            take_profit_price = round(current_price * (1 + TAKE_PROFIT_PCT), 2)\n",
        "            try:\n",
        "                client.new_order(\n",
        "                    symbol=SYMBOL,\n",
        "                    side=\"SELL\",\n",
        "                    type=\"TAKE_PROFIT_MARKET\",\n",
        "                    stopPrice=take_profit_price,\n",
        "                    closePosition=True\n",
        "                )\n",
        "                print(f\"[TP] {SYMBOL} SELL takeProfit={take_profit_price}\")\n",
        "            except Exception as e:\n",
        "                print(\"Lỗi TP:\", e)\n",
        "\n",
        "        elif current_price < lower_breakout:\n",
        "            # Mở SHORT\n",
        "            open_position(SYMBOL, \"SELL\", qty)\n",
        "            # Đặt stop-loss (ngược side = BUY)\n",
        "            stop_loss_price = round(current_price * (1 + STOP_LOSS_PCT), 2)\n",
        "            place_stop(SYMBOL, stop_loss_price, \"BUY\")\n",
        "            # Đặt take-profit\n",
        "            take_profit_price = round(current_price * (1 - TAKE_PROFIT_PCT), 2)\n",
        "            try:\n",
        "                client.new_order(\n",
        "                    symbol=SYMBOL,\n",
        "                    side=\"BUY\",\n",
        "                    type=\"TAKE_PROFIT_MARKET\",\n",
        "                    stopPrice=take_profit_price,\n",
        "                    closePosition=True\n",
        "                )\n",
        "                print(f\"[TP] {SYMBOL} BUY takeProfit={take_profit_price}\")\n",
        "            except Exception as e:\n",
        "                print(\"Lỗi TP:\", e)\n",
        "        else:\n",
        "            print(\"Không có tín hiệu breakout => đứng ngoài\")\n",
        "\n",
        "    # 9) Nếu đang có vị thế => có thể quản lý, trailing, v.v.\n",
        "    else:\n",
        "        # VD: Kiểm tra xem giá đã di chuyển ngược hướng quá mạnh => chủ động đóng\n",
        "        # Ở đây ví dụ ta giao phó cho stop-loss, take-profit,\n",
        "        # nên tạm thời kệ. Hoặc trailing stop...\n",
        "        print(f\"Đang giữ vị thế => amt={position_amt}, entry={entry_price}\")\n",
        "\n",
        "# --- Vòng lặp chính siêu ngắn hạn ---\n",
        "try:\n",
        "    while True:\n",
        "        run_bot()\n",
        "        time.sleep(CHECK_INTERVAL)  # 10 giây\n",
        "except KeyboardInterrupt:\n",
        "    print(\"Bot dừng.\")\n"
      ],
      "metadata": {
        "id": "V6rKno-YMbiG"
      },
      "execution_count": null,
      "outputs": []
    }
  ],
  "metadata": {
    "colab": {
      "name": "Colaboratory chào mừng bạn!",
      "provenance": [],
      "include_colab_link": true
    },
    "kernelspec": {
      "display_name": "Python 3",
      "name": "python3"
    },
    "language_info": {
      "name": "python",
      "version": "3.11.7"
    }
  },
  "nbformat": 4,
  "nbformat_minor": 0
}